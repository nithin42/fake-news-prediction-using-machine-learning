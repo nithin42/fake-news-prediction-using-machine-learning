{
  "nbformat": 4,
  "nbformat_minor": 0,
  "metadata": {
    "colab": {
      "name": "fake news clasification",
      "provenance": []
    },
    "kernelspec": {
      "name": "python3",
      "display_name": "Python 3"
    },
    "language_info": {
      "name": "python"
    }
  },
  "cells": [
    {
      "cell_type": "markdown",
      "metadata": {
        "id": "OFSfKb6gTMpS"
      },
      "source": [
        "**libraries**"
      ]
    },
    {
      "cell_type": "code",
      "metadata": {
        "id": "ziDyow9m6vKn"
      },
      "source": [
        "#importing libraries\n",
        "import numpy as np # linear algebra\n",
        "import pandas as pd # data processing, CSV file I/O (e.g. pd.read_csv)\n",
        "import re\n",
        "from nltk.corpus import stopwords\n",
        "from nltk.stem.porter import PorterStemmer\n",
        "from nltk.stem import WordNetLemmatizer\n",
        "from sklearn.feature_extraction.text import TfidfVectorizer\n",
        "from sklearn.model_selection import train_test_split,cross_val_score\n",
        "from sklearn.linear_model import LogisticRegression\n",
        "from sklearn.metrics import accuracy_score,classification_report,confusion_matrix,plot_confusion_matrix\n",
        "import matplotlib.pyplot as plt\n",
        "\n",
        "\n",
        "%matplotlib inline"
      ],
      "execution_count": 112,
      "outputs": []
    },
    {
      "cell_type": "code",
      "metadata": {
        "colab": {
          "base_uri": "https://localhost:8080/"
        },
        "id": "U8VRTw4j8maJ",
        "outputId": "aa07923d-5865-4f1d-dd0f-08ed934067bf"
      },
      "source": [
        "import nltk\n",
        "nltk.download('stopwords')\n",
        "nltk.download('wordnet')"
      ],
      "execution_count": 113,
      "outputs": [
        {
          "output_type": "stream",
          "text": [
            "[nltk_data] Downloading package stopwords to /root/nltk_data...\n",
            "[nltk_data]   Package stopwords is already up-to-date!\n",
            "[nltk_data] Downloading package wordnet to /root/nltk_data...\n",
            "[nltk_data]   Package wordnet is already up-to-date!\n"
          ],
          "name": "stdout"
        },
        {
          "output_type": "execute_result",
          "data": {
            "text/plain": [
              "True"
            ]
          },
          "metadata": {
            "tags": []
          },
          "execution_count": 113
        }
      ]
    },
    {
      "cell_type": "code",
      "metadata": {
        "id": "3Wh53lo389OB"
      },
      "source": [
        "data =pd.read_csv(\"/content/drive/MyDrive/datasets/fake-news/train.csv\")"
      ],
      "execution_count": 114,
      "outputs": []
    },
    {
      "cell_type": "code",
      "metadata": {
        "colab": {
          "base_uri": "https://localhost:8080/",
          "height": 203
        },
        "id": "F0y0UcP-AH-D",
        "outputId": "a44a0f8a-bcf9-4446-adc0-901f3b56c609"
      },
      "source": [
        "data.head()"
      ],
      "execution_count": 115,
      "outputs": [
        {
          "output_type": "execute_result",
          "data": {
            "text/html": [
              "<div>\n",
              "<style scoped>\n",
              "    .dataframe tbody tr th:only-of-type {\n",
              "        vertical-align: middle;\n",
              "    }\n",
              "\n",
              "    .dataframe tbody tr th {\n",
              "        vertical-align: top;\n",
              "    }\n",
              "\n",
              "    .dataframe thead th {\n",
              "        text-align: right;\n",
              "    }\n",
              "</style>\n",
              "<table border=\"1\" class=\"dataframe\">\n",
              "  <thead>\n",
              "    <tr style=\"text-align: right;\">\n",
              "      <th></th>\n",
              "      <th>id</th>\n",
              "      <th>title</th>\n",
              "      <th>author</th>\n",
              "      <th>text</th>\n",
              "      <th>label</th>\n",
              "    </tr>\n",
              "  </thead>\n",
              "  <tbody>\n",
              "    <tr>\n",
              "      <th>0</th>\n",
              "      <td>0</td>\n",
              "      <td>House Dem Aide: We Didn’t Even See Comey’s Let...</td>\n",
              "      <td>Darrell Lucus</td>\n",
              "      <td>House Dem Aide: We Didn’t Even See Comey’s Let...</td>\n",
              "      <td>1</td>\n",
              "    </tr>\n",
              "    <tr>\n",
              "      <th>1</th>\n",
              "      <td>1</td>\n",
              "      <td>FLYNN: Hillary Clinton, Big Woman on Campus - ...</td>\n",
              "      <td>Daniel J. Flynn</td>\n",
              "      <td>Ever get the feeling your life circles the rou...</td>\n",
              "      <td>0</td>\n",
              "    </tr>\n",
              "    <tr>\n",
              "      <th>2</th>\n",
              "      <td>2</td>\n",
              "      <td>Why the Truth Might Get You Fired</td>\n",
              "      <td>Consortiumnews.com</td>\n",
              "      <td>Why the Truth Might Get You Fired October 29, ...</td>\n",
              "      <td>1</td>\n",
              "    </tr>\n",
              "    <tr>\n",
              "      <th>3</th>\n",
              "      <td>3</td>\n",
              "      <td>15 Civilians Killed In Single US Airstrike Hav...</td>\n",
              "      <td>Jessica Purkiss</td>\n",
              "      <td>Videos 15 Civilians Killed In Single US Airstr...</td>\n",
              "      <td>1</td>\n",
              "    </tr>\n",
              "    <tr>\n",
              "      <th>4</th>\n",
              "      <td>4</td>\n",
              "      <td>Iranian woman jailed for fictional unpublished...</td>\n",
              "      <td>Howard Portnoy</td>\n",
              "      <td>Print \\nAn Iranian woman has been sentenced to...</td>\n",
              "      <td>1</td>\n",
              "    </tr>\n",
              "  </tbody>\n",
              "</table>\n",
              "</div>"
            ],
            "text/plain": [
              "   id  ... label\n",
              "0   0  ...     1\n",
              "1   1  ...     0\n",
              "2   2  ...     1\n",
              "3   3  ...     1\n",
              "4   4  ...     1\n",
              "\n",
              "[5 rows x 5 columns]"
            ]
          },
          "metadata": {
            "tags": []
          },
          "execution_count": 115
        }
      ]
    },
    {
      "cell_type": "code",
      "metadata": {
        "colab": {
          "base_uri": "https://localhost:8080/"
        },
        "id": "fZHWCc_-AODB",
        "outputId": "3a771d6f-0b63-4952-cd0c-e14d41556a45"
      },
      "source": [
        "data.shape"
      ],
      "execution_count": 116,
      "outputs": [
        {
          "output_type": "execute_result",
          "data": {
            "text/plain": [
              "(20800, 5)"
            ]
          },
          "metadata": {
            "tags": []
          },
          "execution_count": 116
        }
      ]
    },
    {
      "cell_type": "code",
      "metadata": {
        "colab": {
          "base_uri": "https://localhost:8080/"
        },
        "id": "hoTaEgcBK6ee",
        "outputId": "919b7296-d3c5-44d3-a4ec-d0f3c2aa1aaf"
      },
      "source": [
        "data.isnull().sum()"
      ],
      "execution_count": 117,
      "outputs": [
        {
          "output_type": "execute_result",
          "data": {
            "text/plain": [
              "id           0\n",
              "title      558\n",
              "author    1957\n",
              "text        39\n",
              "label        0\n",
              "dtype: int64"
            ]
          },
          "metadata": {
            "tags": []
          },
          "execution_count": 117
        }
      ]
    },
    {
      "cell_type": "code",
      "metadata": {
        "id": "OPjFl3KoLBFl"
      },
      "source": [
        "data = data.fillna('')"
      ],
      "execution_count": 118,
      "outputs": []
    },
    {
      "cell_type": "code",
      "metadata": {
        "colab": {
          "base_uri": "https://localhost:8080/"
        },
        "id": "UiXKFjVGLRjh",
        "outputId": "c0dcb602-a95b-4c68-d5ab-fa3f513b1a87"
      },
      "source": [
        "data.isnull().sum()"
      ],
      "execution_count": 119,
      "outputs": [
        {
          "output_type": "execute_result",
          "data": {
            "text/plain": [
              "id        0\n",
              "title     0\n",
              "author    0\n",
              "text      0\n",
              "label     0\n",
              "dtype: int64"
            ]
          },
          "metadata": {
            "tags": []
          },
          "execution_count": 119
        }
      ]
    },
    {
      "cell_type": "code",
      "metadata": {
        "colab": {
          "base_uri": "https://localhost:8080/"
        },
        "id": "eShkFzdDLfrQ",
        "outputId": "2f3d826d-a187-4a37-f206-63d1ad13b08e"
      },
      "source": [
        "data['label'].value_counts()"
      ],
      "execution_count": 120,
      "outputs": [
        {
          "output_type": "execute_result",
          "data": {
            "text/plain": [
              "1    10413\n",
              "0    10387\n",
              "Name: label, dtype: int64"
            ]
          },
          "metadata": {
            "tags": []
          },
          "execution_count": 120
        }
      ]
    },
    {
      "cell_type": "code",
      "metadata": {
        "id": "AiR8S5t5Llzz"
      },
      "source": [
        "data['content'] = data['author']+' '+data['title']"
      ],
      "execution_count": 121,
      "outputs": []
    },
    {
      "cell_type": "code",
      "metadata": {
        "colab": {
          "base_uri": "https://localhost:8080/",
          "height": 287
        },
        "id": "5OGEMfOJMLmm",
        "outputId": "a5d841fc-70dd-48ba-952c-b77e10b26055"
      },
      "source": [
        "data.head()"
      ],
      "execution_count": 122,
      "outputs": [
        {
          "output_type": "execute_result",
          "data": {
            "text/html": [
              "<div>\n",
              "<style scoped>\n",
              "    .dataframe tbody tr th:only-of-type {\n",
              "        vertical-align: middle;\n",
              "    }\n",
              "\n",
              "    .dataframe tbody tr th {\n",
              "        vertical-align: top;\n",
              "    }\n",
              "\n",
              "    .dataframe thead th {\n",
              "        text-align: right;\n",
              "    }\n",
              "</style>\n",
              "<table border=\"1\" class=\"dataframe\">\n",
              "  <thead>\n",
              "    <tr style=\"text-align: right;\">\n",
              "      <th></th>\n",
              "      <th>id</th>\n",
              "      <th>title</th>\n",
              "      <th>author</th>\n",
              "      <th>text</th>\n",
              "      <th>label</th>\n",
              "      <th>content</th>\n",
              "    </tr>\n",
              "  </thead>\n",
              "  <tbody>\n",
              "    <tr>\n",
              "      <th>0</th>\n",
              "      <td>0</td>\n",
              "      <td>House Dem Aide: We Didn’t Even See Comey’s Let...</td>\n",
              "      <td>Darrell Lucus</td>\n",
              "      <td>House Dem Aide: We Didn’t Even See Comey’s Let...</td>\n",
              "      <td>1</td>\n",
              "      <td>Darrell Lucus House Dem Aide: We Didn’t Even S...</td>\n",
              "    </tr>\n",
              "    <tr>\n",
              "      <th>1</th>\n",
              "      <td>1</td>\n",
              "      <td>FLYNN: Hillary Clinton, Big Woman on Campus - ...</td>\n",
              "      <td>Daniel J. Flynn</td>\n",
              "      <td>Ever get the feeling your life circles the rou...</td>\n",
              "      <td>0</td>\n",
              "      <td>Daniel J. Flynn FLYNN: Hillary Clinton, Big Wo...</td>\n",
              "    </tr>\n",
              "    <tr>\n",
              "      <th>2</th>\n",
              "      <td>2</td>\n",
              "      <td>Why the Truth Might Get You Fired</td>\n",
              "      <td>Consortiumnews.com</td>\n",
              "      <td>Why the Truth Might Get You Fired October 29, ...</td>\n",
              "      <td>1</td>\n",
              "      <td>Consortiumnews.com Why the Truth Might Get You...</td>\n",
              "    </tr>\n",
              "    <tr>\n",
              "      <th>3</th>\n",
              "      <td>3</td>\n",
              "      <td>15 Civilians Killed In Single US Airstrike Hav...</td>\n",
              "      <td>Jessica Purkiss</td>\n",
              "      <td>Videos 15 Civilians Killed In Single US Airstr...</td>\n",
              "      <td>1</td>\n",
              "      <td>Jessica Purkiss 15 Civilians Killed In Single ...</td>\n",
              "    </tr>\n",
              "    <tr>\n",
              "      <th>4</th>\n",
              "      <td>4</td>\n",
              "      <td>Iranian woman jailed for fictional unpublished...</td>\n",
              "      <td>Howard Portnoy</td>\n",
              "      <td>Print \\nAn Iranian woman has been sentenced to...</td>\n",
              "      <td>1</td>\n",
              "      <td>Howard Portnoy Iranian woman jailed for fictio...</td>\n",
              "    </tr>\n",
              "  </tbody>\n",
              "</table>\n",
              "</div>"
            ],
            "text/plain": [
              "   id  ...                                            content\n",
              "0   0  ...  Darrell Lucus House Dem Aide: We Didn’t Even S...\n",
              "1   1  ...  Daniel J. Flynn FLYNN: Hillary Clinton, Big Wo...\n",
              "2   2  ...  Consortiumnews.com Why the Truth Might Get You...\n",
              "3   3  ...  Jessica Purkiss 15 Civilians Killed In Single ...\n",
              "4   4  ...  Howard Portnoy Iranian woman jailed for fictio...\n",
              "\n",
              "[5 rows x 6 columns]"
            ]
          },
          "metadata": {
            "tags": []
          },
          "execution_count": 122
        }
      ]
    },
    {
      "cell_type": "code",
      "metadata": {
        "id": "jTCQkAPtMNnJ"
      },
      "source": [
        "X = data['content']\n",
        "y = data['label']"
      ],
      "execution_count": 123,
      "outputs": []
    },
    {
      "cell_type": "code",
      "metadata": {
        "id": "JxCCWnTWMpsp"
      },
      "source": [
        "wordnet = WordNetLemmatizer()"
      ],
      "execution_count": 124,
      "outputs": []
    },
    {
      "cell_type": "code",
      "metadata": {
        "id": "qPL5A5RoNFrW"
      },
      "source": [
        "# def stemming(content):\n",
        "#     stemmed_content = re.sub('[^a-zA-Z]',' ',content)\n",
        "#     stemmed_content = stemmed_content.lower()\n",
        "#     stemmed_content = stemmed_content.split()\n",
        "#     stemmed_content = [port_stem.stem(word) for word in stemmed_content if not word in stopwords.words('english')]\n",
        "#     stemmed_content = ' '.join(stemmed_content)\n",
        "#     return stemmed_content"
      ],
      "execution_count": 125,
      "outputs": []
    },
    {
      "cell_type": "code",
      "metadata": {
        "id": "NuVgMXfPNKO1"
      },
      "source": [
        "def lemmatize(content):\n",
        "  words = re.sub('[^a-zA-Z]', ' ',content)\n",
        "  words = words.lower()\n",
        "  words = words.split()\n",
        "  words = [wordnet.lemmatize(word) for word in words if not word in stopwords.words('english')]\n",
        "  words = ' '.join(words)\n",
        "  return words"
      ],
      "execution_count": 126,
      "outputs": []
    },
    {
      "cell_type": "code",
      "metadata": {
        "id": "hFnOkCvROKIY"
      },
      "source": [
        "data['content'] = data['content'].apply(lemmatize)"
      ],
      "execution_count": 127,
      "outputs": []
    },
    {
      "cell_type": "code",
      "metadata": {
        "colab": {
          "base_uri": "https://localhost:8080/"
        },
        "id": "xNNLaVToOULQ",
        "outputId": "43aaad83-e186-4125-a780-f7ff8b255d6a"
      },
      "source": [
        "data['content']"
      ],
      "execution_count": 128,
      "outputs": [
        {
          "output_type": "execute_result",
          "data": {
            "text/plain": [
              "0        darrell lucus house dem aide even see comey le...\n",
              "1        daniel j flynn flynn hillary clinton big woman...\n",
              "2                 consortiumnews com truth might get fired\n",
              "3        jessica purkiss civilian killed single u airst...\n",
              "4        howard portnoy iranian woman jailed fictional ...\n",
              "                               ...                        \n",
              "20795    jerome hudson rapper trump poster child white ...\n",
              "20796    benjamin hoffman n f l playoff schedule matchu...\n",
              "20797    michael j de la merced rachel abrams macy said...\n",
              "20798    alex ansary nato russia hold parallel exercise...\n",
              "20799                           david swanson keep f alive\n",
              "Name: content, Length: 20800, dtype: object"
            ]
          },
          "metadata": {
            "tags": []
          },
          "execution_count": 128
        }
      ]
    },
    {
      "cell_type": "code",
      "metadata": {
        "id": "8qAyBHorQBwl"
      },
      "source": [
        "X = data['content'].values\n",
        "Y = data['label'].values"
      ],
      "execution_count": 129,
      "outputs": []
    },
    {
      "cell_type": "code",
      "metadata": {
        "colab": {
          "base_uri": "https://localhost:8080/"
        },
        "id": "FQTVZnmNQSrx",
        "outputId": "32a176aa-ccbe-4c94-db46-88a681364304"
      },
      "source": [
        "print(X.shape , y.shape)"
      ],
      "execution_count": 130,
      "outputs": [
        {
          "output_type": "stream",
          "text": [
            "(20800,) (20800,)\n"
          ],
          "name": "stdout"
        }
      ]
    },
    {
      "cell_type": "code",
      "metadata": {
        "id": "E354vRIxQUHi"
      },
      "source": [
        "# converting the textual data to numerical data\n",
        "vectorizer = TfidfVectorizer()"
      ],
      "execution_count": 131,
      "outputs": []
    },
    {
      "cell_type": "code",
      "metadata": {
        "id": "cmHkstV4RD57"
      },
      "source": [
        "X = vectorizer.fit_transform(X)"
      ],
      "execution_count": 132,
      "outputs": []
    },
    {
      "cell_type": "code",
      "metadata": {
        "colab": {
          "base_uri": "https://localhost:8080/"
        },
        "id": "RbHCaQKIRM_5",
        "outputId": "3ceae8cf-1600-4735-b6e3-20da843afa3e"
      },
      "source": [
        "print(X)"
      ],
      "execution_count": 133,
      "outputs": [
        {
          "output_type": "stream",
          "text": [
            "  (0, 19361)\t0.3898334584250517\n",
            "  (0, 2995)\t0.34215548056905637\n",
            "  (0, 9676)\t0.23066376406357905\n",
            "  (0, 10711)\t0.27186640212962043\n",
            "  (0, 3567)\t0.22972642932451354\n",
            "  (0, 16636)\t0.2434231886663421\n",
            "  (0, 6290)\t0.25787634753604916\n",
            "  (0, 372)\t0.27922090210909\n",
            "  (0, 4706)\t0.2800374370965301\n",
            "  (0, 8757)\t0.20553409740940168\n",
            "  (0, 11060)\t0.33838114561245775\n",
            "  (0, 4440)\t0.3349354477607908\n",
            "  (1, 2311)\t0.15792547179062308\n",
            "  (1, 2694)\t0.3733588177698612\n",
            "  (1, 20677)\t0.2647867528711059\n",
            "  (1, 1843)\t0.2991138596074481\n",
            "  (1, 3384)\t0.194274231709525\n",
            "  (1, 8539)\t0.19378614861132637\n",
            "  (1, 7016)\t0.726781854190952\n",
            "  (1, 4403)\t0.26939599285575333\n",
            "  (2, 6879)\t0.4651214075065619\n",
            "  (2, 7568)\t0.3412820420603414\n",
            "  (2, 11859)\t0.4717261145949637\n",
            "  (2, 19276)\t0.397654988300042\n",
            "  (2, 3547)\t0.30394939562160844\n",
            "  :\t:\n",
            "  (20797, 885)\t0.3049409287009706\n",
            "  (20797, 1600)\t0.33081174981720435\n",
            "  (20797, 16242)\t0.24487074231338238\n",
            "  (20797, 18485)\t0.30734974544622173\n",
            "  (20797, 14928)\t0.24487074231338238\n",
            "  (20797, 11751)\t0.2913959509925543\n",
            "  (20797, 10398)\t0.22018490025759335\n",
            "  (20797, 4487)\t0.20867303723416475\n",
            "  (20797, 8793)\t0.21502085086072578\n",
            "  (20797, 11824)\t0.17217557527896182\n",
            "  (20797, 18872)\t0.08048109322513859\n",
            "  (20797, 20893)\t0.08202967866269396\n",
            "  (20797, 12644)\t0.07928577958094714\n",
            "  (20798, 1419)\t0.44270405526361956\n",
            "  (20798, 6380)\t0.40982624550474234\n",
            "  (20798, 749)\t0.3094466318119535\n",
            "  (20798, 466)\t0.2829842802935742\n",
            "  (20798, 13527)\t0.44270405526361956\n",
            "  (20798, 8619)\t0.33848386411629067\n",
            "  (20798, 12494)\t0.3168537495808404\n",
            "  (20798, 16162)\t0.22195436845939867\n",
            "  (20799, 497)\t0.5641488296067481\n",
            "  (20799, 18346)\t0.5641488296067481\n",
            "  (20799, 4466)\t0.3768654298351967\n",
            "  (20799, 10054)\t0.4705790517031175\n"
          ],
          "name": "stdout"
        }
      ]
    },
    {
      "cell_type": "code",
      "metadata": {
        "id": "8dwP6BhXRwJm"
      },
      "source": [
        "X_train, X_test, Y_train, Y_test = train_test_split(X, Y, test_size = 0.2, stratify=Y, random_state=2)"
      ],
      "execution_count": 134,
      "outputs": []
    },
    {
      "cell_type": "code",
      "metadata": {
        "colab": {
          "base_uri": "https://localhost:8080/"
        },
        "id": "uahdcT_3SFRj",
        "outputId": "ab168896-24e6-4b90-c8c9-25dea15b1c26"
      },
      "source": [
        "print(X.shape, X_train.shape, X_test.shape)"
      ],
      "execution_count": 135,
      "outputs": [
        {
          "output_type": "stream",
          "text": [
            "(20800, 21030) (16640, 21030) (4160, 21030)\n"
          ],
          "name": "stdout"
        }
      ]
    },
    {
      "cell_type": "code",
      "metadata": {
        "id": "0RTw4uywSStV"
      },
      "source": [
        "model = LogisticRegression()"
      ],
      "execution_count": 136,
      "outputs": []
    },
    {
      "cell_type": "code",
      "metadata": {
        "colab": {
          "base_uri": "https://localhost:8080/"
        },
        "id": "PWq_HbJdSaOT",
        "outputId": "372348b9-702e-4354-81a4-53a1c590abbb"
      },
      "source": [
        "model.fit(X_train, Y_train)"
      ],
      "execution_count": 137,
      "outputs": [
        {
          "output_type": "execute_result",
          "data": {
            "text/plain": [
              "LogisticRegression(C=1.0, class_weight=None, dual=False, fit_intercept=True,\n",
              "                   intercept_scaling=1, l1_ratio=None, max_iter=100,\n",
              "                   multi_class='auto', n_jobs=None, penalty='l2',\n",
              "                   random_state=None, solver='lbfgs', tol=0.0001, verbose=0,\n",
              "                   warm_start=False)"
            ]
          },
          "metadata": {
            "tags": []
          },
          "execution_count": 137
        }
      ]
    },
    {
      "cell_type": "markdown",
      "metadata": {
        "id": "JftBS3vtTzY_"
      },
      "source": [
        "**Evaluation**"
      ]
    },
    {
      "cell_type": "code",
      "metadata": {
        "id": "Ok1zPAu7Sl1M"
      },
      "source": [
        "y_pred = model.predict(X_train)\n",
        "train_accuracy = accuracy_score(Y_train,y_pred)"
      ],
      "execution_count": 138,
      "outputs": []
    },
    {
      "cell_type": "code",
      "metadata": {
        "colab": {
          "base_uri": "https://localhost:8080/"
        },
        "id": "Xj7RE2rCULh8",
        "outputId": "c65836dd-fb8d-4981-cb4f-ed10ea37fec3"
      },
      "source": [
        "print('train accuracy score : ', train_accuracy)"
      ],
      "execution_count": 139,
      "outputs": [
        {
          "output_type": "stream",
          "text": [
            "train accuracy score :  0.9868990384615385\n"
          ],
          "name": "stdout"
        }
      ]
    },
    {
      "cell_type": "code",
      "metadata": {
        "id": "R-qIu8ZMURZ7"
      },
      "source": [
        "y_pred = model.predict(X_test)\n",
        "test_accuracy = accuracy_score(Y_test,y_pred)"
      ],
      "execution_count": 140,
      "outputs": []
    },
    {
      "cell_type": "code",
      "metadata": {
        "colab": {
          "base_uri": "https://localhost:8080/"
        },
        "id": "Jf2PoXjfUZbk",
        "outputId": "70d14420-4d50-4214-ecce-616258dcc6ee"
      },
      "source": [
        "print('test accuracy score : ', test_accuracy)"
      ],
      "execution_count": 141,
      "outputs": [
        {
          "output_type": "stream",
          "text": [
            "test accuracy score :  0.9776442307692308\n"
          ],
          "name": "stdout"
        }
      ]
    },
    {
      "cell_type": "markdown",
      "metadata": {
        "id": "RWJsGqSqV_Kv"
      },
      "source": [
        "**Confusion matrix**"
      ]
    },
    {
      "cell_type": "code",
      "metadata": {
        "colab": {
          "base_uri": "https://localhost:8080/"
        },
        "id": "pPVD2pAGUe49",
        "outputId": "f0d81612-e4d5-4990-c68a-826aa52e4905"
      },
      "source": [
        "confusion_matrix(Y_test,y_pred)"
      ],
      "execution_count": 142,
      "outputs": [
        {
          "output_type": "execute_result",
          "data": {
            "text/plain": [
              "array([[1999,   78],\n",
              "       [  15, 2068]])"
            ]
          },
          "metadata": {
            "tags": []
          },
          "execution_count": 142
        }
      ]
    },
    {
      "cell_type": "code",
      "metadata": {
        "colab": {
          "base_uri": "https://localhost:8080/",
          "height": 279
        },
        "id": "g3Kmc6WIWXtU",
        "outputId": "11c0f0db-cf74-4681-a350-279f08eee035"
      },
      "source": [
        "plot_confusion_matrix(model, X_test, Y_test)  \n",
        "plt.show()"
      ],
      "execution_count": 143,
      "outputs": [
        {
          "output_type": "display_data",
          "data": {
            "image/png": "[encoded data removed]",
            "text/plain": [
              "<Figure size 432x288 with 2 Axes>"
            ]
          },
          "metadata": {
            "tags": [],
            "needs_background": "light"
          }
        }
      ]
    },
    {
      "cell_type": "markdown",
      "metadata": {
        "id": "mOO1xGN0V6SW"
      },
      "source": [
        "**cross validation scores**"
      ]
    },
    {
      "cell_type": "code",
      "metadata": {
        "colab": {
          "base_uri": "https://localhost:8080/"
        },
        "id": "-KA3ftg7Uwvv",
        "outputId": "1903b23e-5436-4c31-b186-eb3e6692ae88"
      },
      "source": [
        "cross_val_score(model, X_test, Y_test, cv=10, scoring = 'accuracy').mean()"
      ],
      "execution_count": 144,
      "outputs": [
        {
          "output_type": "execute_result",
          "data": {
            "text/plain": [
              "0.9502403846153845"
            ]
          },
          "metadata": {
            "tags": []
          },
          "execution_count": 144
        }
      ]
    },
    {
      "cell_type": "markdown",
      "metadata": {
        "id": "g0Gl2aYdWptx"
      },
      "source": [
        "**classification report**"
      ]
    },
    {
      "cell_type": "code",
      "metadata": {
        "colab": {
          "base_uri": "https://localhost:8080/"
        },
        "id": "c80uokjUV1tc",
        "outputId": "ca6d3645-2003-49ef-b831-9f323d5033ba"
      },
      "source": [
        "print(classification_report(Y_test,y_pred))"
      ],
      "execution_count": 145,
      "outputs": [
        {
          "output_type": "stream",
          "text": [
            "              precision    recall  f1-score   support\n",
            "\n",
            "           0       0.99      0.96      0.98      2077\n",
            "           1       0.96      0.99      0.98      2083\n",
            "\n",
            "    accuracy                           0.98      4160\n",
            "   macro avg       0.98      0.98      0.98      4160\n",
            "weighted avg       0.98      0.98      0.98      4160\n",
            "\n"
          ],
          "name": "stdout"
        }
      ]
    },
    {
      "cell_type": "markdown",
      "metadata": {
        "id": "8VOwFzfRXI7j"
      },
      "source": [
        "**making predictions using the test data**"
      ]
    },
    {
      "cell_type": "code",
      "metadata": {
        "colab": {
          "base_uri": "https://localhost:8080/"
        },
        "id": "xyLuPN2VXdKR",
        "outputId": "92881229-0e41-4b3d-cd26-bede0f6bd5ed"
      },
      "source": [
        "print(Y_train[0])"
      ],
      "execution_count": 167,
      "outputs": [
        {
          "output_type": "stream",
          "text": [
            "0\n"
          ],
          "name": "stdout"
        }
      ]
    },
    {
      "cell_type": "code",
      "metadata": {
        "colab": {
          "base_uri": "https://localhost:8080/"
        },
        "id": "2e26VKvIW5S0",
        "outputId": "f6dc7a02-a3c7-4aec-f030-9b9130ed28c0"
      },
      "source": [
        "test = X_train[0]\n",
        "\n",
        "prediction = model.predict(test)\n",
        "print(prediction)\n",
        "\n",
        "if (prediction[0]==0):\n",
        "  print('The news is Real')\n",
        "else:\n",
        "  print('The news is Fake')"
      ],
      "execution_count": 168,
      "outputs": [
        {
          "output_type": "stream",
          "text": [
            "[0]\n",
            "The news is Real\n"
          ],
          "name": "stdout"
        }
      ]
    },
    {
      "cell_type": "code",
      "metadata": {
        "id": "3PIlK_era8iJ"
      },
      "source": [
        "# data1 =pd.read_csv(\"/content/drive/MyDrive/datasets/fake-news/train.csv\")\n",
        "# data1 = data.fillna('')\n",
        "# data1['content'] = data1['author']+' '+data1['title']"
      ],
      "execution_count": 97,
      "outputs": []
    },
    {
      "cell_type": "code",
      "metadata": {
        "colab": {
          "base_uri": "https://localhost:8080/",
          "height": 35
        },
        "id": "jK2AYCGibCJH",
        "outputId": "911c38f6-9596-4865-8f4b-9a11c4fd4475"
      },
      "source": [
        "# data1['content'][3]\n"
      ],
      "execution_count": 102,
      "outputs": [
        {
          "output_type": "execute_result",
          "data": {
            "application/vnd.google.colaboratory.intrinsic+json": {
              "type": "string"
            },
            "text/plain": [
              "'Jessica Purkiss 15 Civilians Killed In Single US Airstrike Have Been Identified'"
            ]
          },
          "metadata": {
            "tags": []
          },
          "execution_count": 102
        }
      ]
    },
    {
      "cell_type": "code",
      "metadata": {
        "colab": {
          "base_uri": "https://localhost:8080/"
        },
        "id": "Q753kaZ6dHXb",
        "outputId": "080c95e9-455e-4f57-ae70-76b4eb374b5d"
      },
      "source": [
        "# data1['label'][3]"
      ],
      "execution_count": 111,
      "outputs": [
        {
          "output_type": "execute_result",
          "data": {
            "text/plain": [
              "1"
            ]
          },
          "metadata": {
            "tags": []
          },
          "execution_count": 111
        }
      ]
    },
    {
      "cell_type": "markdown",
      "metadata": {
        "id": "R1SAnOaweAim"
      },
      "source": [
        "**making predictions using real world text data**"
      ]
    },
    {
      "cell_type": "code",
      "metadata": {
        "colab": {
          "base_uri": "https://localhost:8080/"
        },
        "id": "y7FI-m7Bclx5",
        "outputId": "1d3e97ba-179e-4b30-e8fc-1074276748c4"
      },
      "source": [
        "def classify_message(text):\n",
        "    text = vectorizer.transform(text)\n",
        "    predicted = model.predict(text)\n",
        "    probability = model.predict_proba(text).max()*100\n",
        "\n",
        "    if predicted==0:\n",
        "        print(\"not Fake news\")\n",
        "        print('the probability percentage is:',round(probability))\n",
        "    else:\n",
        "        print(\"The news is Fake\")\n",
        "        print('the probability percentage is:',round(probability))\n",
        "\n",
        "test = ['Aaron Klein Obamaâ€™s Organizing for Action Partners with Soros-Linked â€˜Indivisibleâ€™ to Disrupt Trumpâ€™s Agenda']\n",
        "classify_message(test)\n"
      ],
      "execution_count": 174,
      "outputs": [
        {
          "output_type": "stream",
          "text": [
            "not Fake news\n",
            "the probability percentage is: 59\n"
          ],
          "name": "stdout"
        }
      ]
    },
    {
      "cell_type": "code",
      "metadata": {
        "id": "UgSQV7YKeNGl"
      },
      "source": [
        ""
      ],
      "execution_count": null,
      "outputs": []
    }
  ]
}